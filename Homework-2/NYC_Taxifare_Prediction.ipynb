{
 "cells": [
  {
   "cell_type": "code",
   "execution_count": 83,
   "metadata": {},
   "outputs": [
    {
     "name": "stdout",
     "output_type": "stream",
     "text": [
      "Shape at the time of loading: (500000, 8)\n",
      "Data types:\n",
      "key                          object\n",
      "fare_amount                 float64\n",
      "pickup_datetime      datetime64[ns]\n",
      "pickup_longitude            float64\n",
      "pickup_latitude             float64\n",
      "dropoff_longitude           float64\n",
      "dropoff_latitude            float64\n",
      "passenger_count               int64\n",
      "dtype: object\n"
     ]
    }
   ],
   "source": [
    "import pandas as pd\n",
    "import warnings\n",
    "\n",
    "warnings.simplefilter('ignore')\n",
    "\n",
    "df_train = pd.read_csv(\"/Users/manideepattanti/Acads/SEM1/DSF/hw2/train.csv\", nrows=500000, \n",
    "                       parse_dates=[\"pickup_datetime\"])\n",
    "df_test = pd.read_csv(\"/Users/manideepattanti/Acads/SEM1/DSF/hw2/test.csv\", parse_dates=[\"pickup_datetime\"])\n",
    "print(\"Shape at the time of loading:\", df_train.shape)\n",
    "print(\"Data types:\")\n",
    "print(df_train.dtypes)"
   ]
  },
  {
   "cell_type": "markdown",
   "metadata": {},
   "source": [
    "Imported 500,000 lines from the csv into df_train."
   ]
  },
  {
   "cell_type": "code",
   "execution_count": 84,
   "metadata": {},
   "outputs": [
    {
     "name": "stdout",
     "output_type": "stream",
     "text": [
      "Shape after cleaning data: (487599, 8)\n",
      "                             key  fare_amount     pickup_datetime  \\\n",
      "0    2009-06-15 17:26:21.0000001          4.5 2009-06-15 17:26:21   \n",
      "1    2010-01-05 16:52:16.0000002         16.9 2010-01-05 16:52:16   \n",
      "2   2011-08-18 00:35:00.00000049          5.7 2011-08-18 00:35:00   \n",
      "3    2012-04-21 04:30:42.0000001          7.7 2012-04-21 04:30:42   \n",
      "4  2010-03-09 07:51:00.000000135          5.3 2010-03-09 07:51:00   \n",
      "\n",
      "   pickup_longitude  pickup_latitude  dropoff_longitude  dropoff_latitude  \\\n",
      "0        -73.844311        40.721319         -73.841610         40.712278   \n",
      "1        -74.016048        40.711303         -73.979268         40.782004   \n",
      "2        -73.982738        40.761270         -73.991242         40.750562   \n",
      "3        -73.987130        40.733143         -73.991567         40.758092   \n",
      "4        -73.968095        40.768008         -73.956655         40.783762   \n",
      "\n",
      "   passenger_count  \n",
      "0                1  \n",
      "1                1  \n",
      "2                2  \n",
      "3                1  \n",
      "4                1  \n"
     ]
    }
   ],
   "source": [
    "# Cleaning the data\n",
    "def check_longitude(longitude):\n",
    "    return (longitude <= -72.986532) & (longitude >= -74.263242)\n",
    "\n",
    "\n",
    "def check_latitude(latitude):\n",
    "    return (latitude >= 40.568973) & (latitude <= 41.709555)\n",
    "\n",
    "\n",
    "def check_fare(fare):\n",
    "    return (fare > 0) & (fare < 500)\n",
    "\n",
    "\n",
    "def check_passenger_count(count):\n",
    "    return (count > 0) & (count < 8)\n",
    "\n",
    "\n",
    "def cleaning_conditions(fare_amount, p_lon, p_lat, d_lon, d_lat, p_count):\n",
    "    conditions = check_fare(fare_amount)\n",
    "    conditions = conditions & check_longitude(p_lon)\n",
    "    conditions = conditions & check_latitude(p_lat)\n",
    "    conditions = conditions & check_longitude(d_lon)\n",
    "    conditions = conditions & check_latitude(d_lat)\n",
    "    conditions = conditions & check_passenger_count(p_count)\n",
    "    return conditions\n",
    "\n",
    "\n",
    "def clean_data(df):\n",
    "    df = df[cleaning_conditions(df.fare_amount, df.pickup_longitude, df.pickup_latitude,\n",
    "                                df.dropoff_longitude, df.dropoff_latitude,\n",
    "                                df.passenger_count)]\n",
    "    df = df.dropna()\n",
    "    return df\n",
    "\n",
    "\n",
    "df_train = clean_data(df_train)\n",
    "print(\"Shape after cleaning data:\", df_train.shape)\n",
    "print(df_train.head())"
   ]
  },
  {
   "cell_type": "markdown",
   "metadata": {},
   "source": [
    "For Data Cleaning I chose the following criteria:\n",
    "* The fare amount should be greater than 0 and less than 500. Rest of the data seems like noise.\n",
    "* Same with passenger count. It should be greater than 0 and less than 8.\n",
    "* For latitude and longitude, I wanted to train in the boundaries of the test data. Hence those coordinates.\n",
    "* Finally dropped the nan values since few timestamps were nan."
   ]
  },
  {
   "cell_type": "code",
   "execution_count": 85,
   "metadata": {},
   "outputs": [
    {
     "name": "stdout",
     "output_type": "stream",
     "text": [
      "Shape after adding features: (487599, 10)\n"
     ]
    }
   ],
   "source": [
    "# Adding Euclidean Distance and Day to the data to find the correlation\n",
    "df_train['distance'] = (((df_train.pickup_longitude - df_train.dropoff_longitude) ** 2) +\n",
    "                  (df_train.pickup_latitude - df_train.dropoff_latitude) ** 2) ** .5\n",
    "\n",
    "df_train['hour'] = df_train.pickup_datetime.apply(lambda x: x.hour)\n",
    "\n",
    "print(\"Shape after adding features:\", df_train.shape)"
   ]
  },
  {
   "cell_type": "code",
   "execution_count": 87,
   "metadata": {
    "scrolled": true
   },
   "outputs": [
    {
     "name": "stdout",
     "output_type": "stream",
     "text": [
      "0.8189413154105973\n"
     ]
    },
    {
     "data": {
      "text/plain": [
       "[]"
      ]
     },
     "execution_count": 87,
     "metadata": {},
     "output_type": "execute_result"
    },
    {
     "data": {
      "image/png": "[encoded data removed]",
      "text/plain": [
       "<Figure size 432x288 with 1 Axes>"
      ]
     },
     "metadata": {},
     "output_type": "display_data"
    }
   ],
   "source": [
    "# Finding Distance and Fare Correlation\n",
    "distance_fare_correlation = df_train['distance'].corr(df_train['fare_amount'], method='pearson')\n",
    "print(distance_fare_correlation)\n",
    "\n",
    "# Scatter Plot of Distance and Fare\n",
    "import matplotlib.pyplot as plt\n",
    "\n",
    "plt.scatter(df_train['distance'], df_train['fare_amount'])\n",
    "plt.plot()"
   ]
  },
  {
   "cell_type": "markdown",
   "metadata": {},
   "source": [
    "This scatter plot shows a high positive correlation between the distance travelled and fare_amount whis is 0.819. There seems to be a linear relation between fare and distance. It makes sense as fare increases with increasing distance linearly."
   ]
  },
  {
   "cell_type": "code",
   "execution_count": 88,
   "metadata": {},
   "outputs": [
    {
     "name": "stdout",
     "output_type": "stream",
     "text": [
      "-0.031012930775137785\n"
     ]
    },
    {
     "data": {
      "text/plain": [
       "[]"
      ]
     },
     "execution_count": 88,
     "metadata": {},
     "output_type": "execute_result"
    },
    {
     "data": {
      "image/png": "[encoded data removed]",
      "text/plain": [
       "<Figure size 432x288 with 1 Axes>"
      ]
     },
     "metadata": {},
     "output_type": "display_data"
    }
   ],
   "source": [
    "# Finding Time of Day(hour) and distance correlation\n",
    "hour_distance_correlation = df_train['hour'].corr(df_train['distance'], method='pearson')\n",
    "print(hour_distance_correlation)\n",
    "\n",
    "# Scatter Plot of Hour and Distance\n",
    "plt.scatter(df_train['hour'], df_train['distance'])\n",
    "plt.plot()"
   ]
  },
  {
   "cell_type": "markdown",
   "metadata": {},
   "source": [
    "This scatter plot shows that distance and time(hour of day) has very less negative correlation of -0.031. This may be because the density is different during different week days. Hour and distance also have non linear relation."
   ]
  },
  {
   "cell_type": "code",
   "execution_count": 89,
   "metadata": {},
   "outputs": [
    {
     "name": "stdout",
     "output_type": "stream",
     "text": [
      "-0.019615850595663627\n"
     ]
    },
    {
     "data": {
      "text/plain": [
       "[]"
      ]
     },
     "execution_count": 89,
     "metadata": {},
     "output_type": "execute_result"
    },
    {
     "data": {
      "image/png": "[encoded data removed]",
      "text/plain": [
       "<Figure size 432x288 with 1 Axes>"
      ]
     },
     "metadata": {},
     "output_type": "display_data"
    }
   ],
   "source": [
    "# Finding Hour and Fare Correlation\n",
    "hour_fare_correlation = df_train['hour'].corr(df_train['fare_amount'], method='pearson')\n",
    "print(hour_fare_correlation)\n",
    "\n",
    "# Scatter Plot of Hour and Fare\n",
    "plt.scatter(df_train['hour'], df_train['fare_amount'])\n",
    "plt.plot()"
   ]
  },
  {
   "cell_type": "markdown",
   "metadata": {},
   "source": [
    "This scatter plot shows that time and fare have very less negative correlation of -0.0196. This may be because fares don't change with time or may be because different weekdays have different distribution of time fare relation. There is a non-linear relation between fare and hour as can be seen in the plots done below."
   ]
  },
  {
   "cell_type": "markdown",
   "metadata": {},
   "source": [
    "From the above three plots, it can be seen that distance and fare have highest correlation."
   ]
  },
  {
   "cell_type": "code",
   "execution_count": 90,
   "metadata": {},
   "outputs": [
    {
     "name": "stdout",
     "output_type": "stream",
     "text": [
      "Data Types after adding Features:\n",
      "key                          object\n",
      "fare_amount                 float64\n",
      "pickup_datetime      datetime64[ns]\n",
      "pickup_longitude            float64\n",
      "pickup_latitude             float64\n",
      "dropoff_longitude           float64\n",
      "dropoff_latitude            float64\n",
      "passenger_count               int64\n",
      "distance                    float64\n",
      "hour                          int64\n",
      "year                          int64\n",
      "month                         int64\n",
      "day                           int64\n",
      "weekday                       int64\n",
      "is_holiday                    int64\n",
      "dtype: object\n"
     ]
    }
   ],
   "source": [
    "# Adding additional features to the data\n",
    "def add_features(df):\n",
    "    df['year'] = df.pickup_datetime.apply(lambda x: x.year)\n",
    "    df['month'] = df.pickup_datetime.apply(lambda x: x.month)\n",
    "    df['day'] = df.pickup_datetime.apply(lambda x: x.day)\n",
    "    df['weekday'] = df.pickup_datetime.apply(lambda x: x.weekday())\n",
    "    \n",
    "    from pandas.tseries.holiday import USFederalHolidayCalendar\n",
    "    \n",
    "    cal = USFederalHolidayCalendar()\n",
    "    holidays = cal.holidays(start='2009-01-01', end='2015-12-31').to_pydatetime()\n",
    "    df['is_holiday'] = df['pickup_datetime'].apply(lambda x: 1 if x in holidays else 0)\n",
    "    \n",
    "    return df\n",
    "\n",
    "\n",
    "df_train = add_features(df_train)\n",
    "df_test = add_features(df_test)\n",
    "print(\"Data Types after adding Features:\")\n",
    "print(df_train.dtypes)"
   ]
  },
  {
   "cell_type": "markdown",
   "metadata": {},
   "source": [
    "Chose additional features of YEAR, MONTH, DAY, WEEKDAY, and IS_HOLIDAY, which were the first things to come in mind from the above scatter plots as well as looking at the different densities. Holiday was chosen as it seemed to be a distinguishing factor when people may go out more than in normal non-holiday day. So imported the data source of US Federal Holidays has been used from pandas package and each dataset is labelled 1 for holiday and 0 for non-holiday."
   ]
  },
  {
   "cell_type": "code",
   "execution_count": 94,
   "metadata": {},
   "outputs": [
    {
     "data": {
      "text/plain": [
       "<matplotlib.axes._subplots.AxesSubplot at 0x10ff0c240>"
      ]
     },
     "execution_count": 94,
     "metadata": {},
     "output_type": "execute_result"
    },
    {
     "data": {
      "image/png": "[encoded data removed]",
      "text/plain": [
       "<Figure size 432x288 with 1 Axes>"
      ]
     },
     "metadata": {},
     "output_type": "display_data"
    }
   ],
   "source": [
    "df_train.groupby('month')['key'].count().plot()"
   ]
  },
  {
   "cell_type": "markdown",
   "metadata": {},
   "source": [
    "The above plot between month and number of rides show a minimum in August and comparable variation between months."
   ]
  },
  {
   "cell_type": "code",
   "execution_count": 95,
   "metadata": {},
   "outputs": [
    {
     "data": {
      "text/plain": [
       "<matplotlib.axes._subplots.AxesSubplot at 0x111f44710>"
      ]
     },
     "execution_count": 95,
     "metadata": {},
     "output_type": "execute_result"
    },
    {
     "data": {
      "image/png": "[encoded data removed]",
      "text/plain": [
       "<Figure size 432x288 with 1 Axes>"
      ]
     },
     "metadata": {},
     "output_type": "display_data"
    }
   ],
   "source": [
    "df_train.groupby('year')['key'].count().plot()"
   ]
  },
  {
   "cell_type": "markdown",
   "metadata": {},
   "source": [
    "The above plot shows the data is pretty evenly distributed between the years and we don't have entire data of 2015 which is the reason for dip."
   ]
  },
  {
   "cell_type": "code",
   "execution_count": 96,
   "metadata": {},
   "outputs": [
    {
     "data": {
      "text/plain": [
       "<matplotlib.axes._subplots.AxesSubplot at 0x1a2b917208>"
      ]
     },
     "execution_count": 96,
     "metadata": {},
     "output_type": "execute_result"
    },
    {
     "data": {
      "image/png": "[encoded data removed]",
      "text/plain": [
       "<Figure size 432x288 with 1 Axes>"
      ]
     },
     "metadata": {},
     "output_type": "display_data"
    }
   ],
   "source": [
    "df_train.groupby('weekday')['key'].count().plot()"
   ]
  },
  {
   "cell_type": "markdown",
   "metadata": {},
   "source": [
    "The above plot shows that friday and saturday are the days with most taxi usage and sunday and monday being the least. This may be because people are free from work on friday and go out a lot on these days."
   ]
  },
  {
   "cell_type": "code",
   "execution_count": 97,
   "metadata": {
    "scrolled": true
   },
   "outputs": [
    {
     "data": {
      "text/plain": [
       "<matplotlib.axes._subplots.AxesSubplot at 0x1a29da79b0>"
      ]
     },
     "execution_count": 97,
     "metadata": {},
     "output_type": "execute_result"
    },
    {
     "data": {
      "image/png": "[encoded data removed]",
      "text/plain": [
       "<Figure size 432x288 with 1 Axes>"
      ]
     },
     "metadata": {},
     "output_type": "display_data"
    }
   ],
   "source": [
    "df_train.groupby('hour')['key'].count().plot()"
   ]
  },
  {
   "cell_type": "markdown",
   "metadata": {},
   "source": [
    "This graph shows peak hour around 1900 hrs every day, may be the time when people get back from work or go out. It's minimum is at 0500 hrs."
   ]
  },
  {
   "cell_type": "code",
   "execution_count": 100,
   "metadata": {},
   "outputs": [
    {
     "data": {
      "text/plain": [
       "<matplotlib.axes._subplots.AxesSubplot at 0x123ff6cf8>"
      ]
     },
     "execution_count": 100,
     "metadata": {},
     "output_type": "execute_result"
    },
    {
     "data": {
      "image/png": "[encoded data removed]",
      "text/plain": [
       "<Figure size 432x288 with 1 Axes>"
      ]
     },
     "metadata": {},
     "output_type": "display_data"
    }
   ],
   "source": [
    "df_train.groupby(['weekday', 'hour'])['key'].count().plot()"
   ]
  },
  {
   "cell_type": "code",
   "execution_count": 116,
   "metadata": {},
   "outputs": [
    {
     "data": {
      "text/plain": [
       "<matplotlib.axes._subplots.AxesSubplot at 0x1a2b8a6748>"
      ]
     },
     "execution_count": 116,
     "metadata": {},
     "output_type": "execute_result"
    },
    {
     "data": {
      "image/png": "[encoded data removed]",
      "text/plain": [
       "<Figure size 432x288 with 1 Axes>"
      ]
     },
     "metadata": {},
     "output_type": "display_data"
    }
   ],
   "source": [
    "df_train[df_train['weekday'] == 4].groupby(['hour'])['key'].count().plot()"
   ]
  },
  {
   "cell_type": "markdown",
   "metadata": {},
   "source": [
    "Plots like this on all week days show high taxi usage on friday night, saturday night. Rest all days have peak at around 1900 hrs and not much usage in the night after that. This helps us to take variable representing friday or saturday night as this is differentiating from other week days. We will try to incorporate this variable in our final improvement phase."
   ]
  },
  {
   "cell_type": "code",
   "execution_count": 117,
   "metadata": {},
   "outputs": [
    {
     "data": {
      "text/plain": [
       "<matplotlib.axes._subplots.AxesSubplot at 0x1a298f4128>"
      ]
     },
     "execution_count": 117,
     "metadata": {},
     "output_type": "execute_result"
    },
    {
     "data": {
      "image/png": "[encoded data removed]",
      "text/plain": [
       "<Figure size 432x288 with 1 Axes>"
      ]
     },
     "metadata": {},
     "output_type": "display_data"
    }
   ],
   "source": [
    "df_train.groupby('is_holiday')['key'].count().plot()"
   ]
  },
  {
   "cell_type": "markdown",
   "metadata": {},
   "source": [
    "The number of rides is very less on holidays. This feature plays a part in training since we have days whose rides are very less and this feature proves why."
   ]
  },
  {
   "cell_type": "code",
   "execution_count": 79,
   "metadata": {},
   "outputs": [
    {
     "name": "stdout",
     "output_type": "stream",
     "text": [
      "Data Types of final training set:\n",
      "distance      float64\n",
      "year            int64\n",
      "month           int64\n",
      "day             int64\n",
      "hour            int64\n",
      "weekday         int64\n",
      "is_holiday      int64\n",
      "dtype: object\n"
     ]
    }
   ],
   "source": [
    "def feature_set(df):\n",
    "    columns = ['distance', 'year', 'month', 'day', 'hour', 'weekday', 'is_holiday']\n",
    "    df = df[columns]\n",
    "    \n",
    "    return df\n",
    "\n",
    "df_target_set = df_train[['fare_amount']]\n",
    "df_training_set = feature_set(df_train)\n",
    "print(\"Data Types of final training set:\")\n",
    "print(df_training_set.dtypes)"
   ]
  },
  {
   "cell_type": "markdown",
   "metadata": {},
   "source": [
    "Choosing the features to train the final model on."
   ]
  },
  {
   "cell_type": "code",
   "execution_count": 80,
   "metadata": {},
   "outputs": [
    {
     "name": "stdout",
     "output_type": "stream",
     "text": [
      "[-1078.8569968] [[ 1.97021982e+02  5.38330542e-01  7.50986327e-02  1.61208368e-03\n",
      "   7.05998739e-03 -3.41771903e-02 -2.72672082e+00]]\n",
      "5.546056554236399\n"
     ]
    },
    {
     "data": {
      "text/plain": [
       "LinearRegression(copy_X=True, fit_intercept=True, n_jobs=1, normalize=False)"
      ]
     },
     "execution_count": 80,
     "metadata": {},
     "output_type": "execute_result"
    }
   ],
   "source": [
    "from sklearn.model_selection import train_test_split\n",
    "from sklearn.linear_model import LinearRegression\n",
    "import numpy as np\n",
    "from sklearn.metrics import mean_squared_error\n",
    "\n",
    "# Linear Regression Model\n",
    "def linear_regression(train, target, normalize=False):\n",
    "    train, train_test, target, target_test = train_test_split(train, target)\n",
    "\n",
    "    linear_regression = LinearRegression(normalize=normalize)\n",
    "    linear_regression.fit(train, target)\n",
    "    print(linear_regression.intercept_, linear_regression.coef_)\n",
    "\n",
    "    target_prediction = linear_regression.predict(train_test)\n",
    "    rms = np.sqrt(mean_squared_error(target_test, target_prediction))\n",
    "    print(rms)\n",
    "    \n",
    "    return linear_regression\n",
    "    \n",
    "linear_regression(df_training_set, df_target_set)"
   ]
  },
  {
   "cell_type": "markdown",
   "metadata": {},
   "source": [
    "Training the linear regression model and predicting on the test data which is split from the chosen training data without normalization and choosing the above features gives rmse of 5.54. The coefficients are printed and it can be seen that distance has highest weight of 197. So it's the most important feature. Holiday is the second important feature with a weight of -2.726 followed by year with 0.538. Other features contribute less comparatively.\n",
    "* Distance : 197.021982\n",
    "* Year     : 0.538330542\n",
    "* Month    : 0.0750986327\n",
    "* Day      : 0.00161208368\n",
    "* Hour     : 0.00705998739\n",
    "* Weekday  : -0.0341771903\n",
    "* Holiday  : -2.72672082"
   ]
  },
  {
   "cell_type": "code",
   "execution_count": 81,
   "metadata": {},
   "outputs": [
    {
     "name": "stdout",
     "output_type": "stream",
     "text": [
      "4.902812414231889\n"
     ]
    },
    {
     "data": {
      "text/plain": [
       "RandomForestRegressor(bootstrap=True, criterion='mse', max_depth=25,\n",
       "           max_features=None, max_leaf_nodes=None,\n",
       "           min_impurity_decrease=0.0, min_impurity_split=None,\n",
       "           min_samples_leaf=2, min_samples_split=3,\n",
       "           min_weight_fraction_leaf=0.0, n_estimators=25, n_jobs=1,\n",
       "           oob_score=False, random_state=0, verbose=0, warm_start=False)"
      ]
     },
     "execution_count": 81,
     "metadata": {},
     "output_type": "execute_result"
    }
   ],
   "source": [
    "from sklearn.ensemble import RandomForestRegressor\n",
    "\n",
    "# Random Forest Regressor\n",
    "def random_forest_regressor(train, target):\n",
    "    train, train_test, target, target_test = train_test_split(train, target)\n",
    "    random_forest_regressor = RandomForestRegressor(n_estimators=25, max_features=None, max_depth=25, \n",
    "                                                    min_samples_split=3, min_samples_leaf=2, random_state=0)\n",
    "    random_forest_regressor.fit(train, target)\n",
    "    target_prediction = random_forest_regressor.predict(train_test)\n",
    "    rms = np.sqrt(mean_squared_error(target_test, target_prediction))\n",
    "    print(rms)\n",
    "    \n",
    "    return random_forest_regressor\n",
    "    \n",
    "random_forest_regressor(df_training_set, df_target_set)"
   ]
  },
  {
   "cell_type": "markdown",
   "metadata": {},
   "source": [
    "To improve on the Linear regression model, used random forest to predict fare on same features. It performs well and gives an RMSE of 4.902 on test data split from training set. It is an improvement on the Linear Regression model done previously."
   ]
  },
  {
   "cell_type": "code",
   "execution_count": 82,
   "metadata": {},
   "outputs": [
    {
     "name": "stdout",
     "output_type": "stream",
     "text": [
      "[20:25:36] src/tree/updater_prune.cc:74: tree pruning end, 1 roots, 124 extra nodes, 0 pruned nodes, max_depth=6\n",
      "[0]\ttest-rmse:10.6296\n",
      "Will train until test-rmse hasn't improved in 25 rounds.\n",
      "[20:25:36] src/tree/updater_prune.cc:74: tree pruning end, 1 roots, 126 extra nodes, 0 pruned nodes, max_depth=6\n",
      "[1]\ttest-rmse:8.08862\n",
      "[20:25:36] src/tree/updater_prune.cc:74: tree pruning end, 1 roots, 126 extra nodes, 0 pruned nodes, max_depth=6\n",
      "[2]\ttest-rmse:6.48381\n",
      "[20:25:36] src/tree/updater_prune.cc:74: tree pruning end, 1 roots, 126 extra nodes, 0 pruned nodes, max_depth=6\n",
      "[3]\ttest-rmse:5.5143\n",
      "[20:25:37] src/tree/updater_prune.cc:74: tree pruning end, 1 roots, 122 extra nodes, 0 pruned nodes, max_depth=6\n",
      "[4]\ttest-rmse:4.9639\n",
      "[20:25:37] src/tree/updater_prune.cc:74: tree pruning end, 1 roots, 124 extra nodes, 0 pruned nodes, max_depth=6\n",
      "[5]\ttest-rmse:4.67076\n",
      "[20:25:37] src/tree/updater_prune.cc:74: tree pruning end, 1 roots, 122 extra nodes, 0 pruned nodes, max_depth=6\n",
      "[6]\ttest-rmse:4.51562\n",
      "[20:25:38] src/tree/updater_prune.cc:74: tree pruning end, 1 roots, 124 extra nodes, 0 pruned nodes, max_depth=6\n",
      "[7]\ttest-rmse:4.42969\n",
      "[20:25:38] src/tree/updater_prune.cc:74: tree pruning end, 1 roots, 126 extra nodes, 0 pruned nodes, max_depth=6\n",
      "[8]\ttest-rmse:4.3864\n",
      "[20:25:38] src/tree/updater_prune.cc:74: tree pruning end, 1 roots, 126 extra nodes, 0 pruned nodes, max_depth=6\n",
      "[9]\ttest-rmse:4.36312\n",
      "[20:25:39] src/tree/updater_prune.cc:74: tree pruning end, 1 roots, 120 extra nodes, 0 pruned nodes, max_depth=6\n",
      "[10]\ttest-rmse:4.34896\n",
      "[20:25:39] src/tree/updater_prune.cc:74: tree pruning end, 1 roots, 122 extra nodes, 0 pruned nodes, max_depth=6\n",
      "[11]\ttest-rmse:4.34121\n",
      "[20:25:39] src/tree/updater_prune.cc:74: tree pruning end, 1 roots, 124 extra nodes, 0 pruned nodes, max_depth=6\n",
      "[12]\ttest-rmse:4.33834\n",
      "[20:25:40] src/tree/updater_prune.cc:74: tree pruning end, 1 roots, 110 extra nodes, 0 pruned nodes, max_depth=6\n",
      "[13]\ttest-rmse:4.33101\n",
      "[20:25:40] src/tree/updater_prune.cc:74: tree pruning end, 1 roots, 106 extra nodes, 0 pruned nodes, max_depth=6\n",
      "[14]\ttest-rmse:4.33025\n",
      "[20:25:40] src/tree/updater_prune.cc:74: tree pruning end, 1 roots, 120 extra nodes, 0 pruned nodes, max_depth=6\n",
      "[15]\ttest-rmse:4.33425\n",
      "[20:25:40] src/tree/updater_prune.cc:74: tree pruning end, 1 roots, 88 extra nodes, 0 pruned nodes, max_depth=6\n",
      "[16]\ttest-rmse:4.33822\n",
      "[20:25:41] src/tree/updater_prune.cc:74: tree pruning end, 1 roots, 122 extra nodes, 0 pruned nodes, max_depth=6\n",
      "[17]\ttest-rmse:4.34113\n",
      "[20:25:41] src/tree/updater_prune.cc:74: tree pruning end, 1 roots, 92 extra nodes, 0 pruned nodes, max_depth=6\n",
      "[18]\ttest-rmse:4.34094\n",
      "[20:25:41] src/tree/updater_prune.cc:74: tree pruning end, 1 roots, 118 extra nodes, 0 pruned nodes, max_depth=6\n",
      "[19]\ttest-rmse:4.34338\n",
      "[20:25:42] src/tree/updater_prune.cc:74: tree pruning end, 1 roots, 118 extra nodes, 0 pruned nodes, max_depth=6\n",
      "[20]\ttest-rmse:4.34855\n",
      "[20:25:42] src/tree/updater_prune.cc:74: tree pruning end, 1 roots, 90 extra nodes, 0 pruned nodes, max_depth=6\n",
      "[21]\ttest-rmse:4.34689\n",
      "[20:25:42] src/tree/updater_prune.cc:74: tree pruning end, 1 roots, 112 extra nodes, 0 pruned nodes, max_depth=6\n",
      "[22]\ttest-rmse:4.3471\n",
      "[20:25:42] src/tree/updater_prune.cc:74: tree pruning end, 1 roots, 108 extra nodes, 0 pruned nodes, max_depth=6\n",
      "[23]\ttest-rmse:4.36442\n",
      "[20:25:43] src/tree/updater_prune.cc:74: tree pruning end, 1 roots, 86 extra nodes, 0 pruned nodes, max_depth=6\n",
      "[24]\ttest-rmse:4.36609\n",
      "[20:25:43] src/tree/updater_prune.cc:74: tree pruning end, 1 roots, 62 extra nodes, 0 pruned nodes, max_depth=6\n",
      "[25]\ttest-rmse:4.3648\n",
      "[20:25:43] src/tree/updater_prune.cc:74: tree pruning end, 1 roots, 82 extra nodes, 0 pruned nodes, max_depth=6\n",
      "[26]\ttest-rmse:4.36582\n",
      "[20:25:44] src/tree/updater_prune.cc:74: tree pruning end, 1 roots, 104 extra nodes, 0 pruned nodes, max_depth=6\n",
      "[27]\ttest-rmse:4.36501\n",
      "[20:25:44] src/tree/updater_prune.cc:74: tree pruning end, 1 roots, 70 extra nodes, 0 pruned nodes, max_depth=6\n",
      "[28]\ttest-rmse:4.37179\n",
      "[20:25:44] src/tree/updater_prune.cc:74: tree pruning end, 1 roots, 124 extra nodes, 0 pruned nodes, max_depth=6\n",
      "[29]\ttest-rmse:4.37162\n",
      "[20:25:44] src/tree/updater_prune.cc:74: tree pruning end, 1 roots, 120 extra nodes, 0 pruned nodes, max_depth=6\n",
      "[30]\ttest-rmse:4.37225\n",
      "[20:25:45] src/tree/updater_prune.cc:74: tree pruning end, 1 roots, 96 extra nodes, 0 pruned nodes, max_depth=6\n",
      "[31]\ttest-rmse:4.37331\n",
      "[20:25:45] src/tree/updater_prune.cc:74: tree pruning end, 1 roots, 22 extra nodes, 0 pruned nodes, max_depth=6\n",
      "[32]\ttest-rmse:4.37349\n",
      "[20:25:45] src/tree/updater_prune.cc:74: tree pruning end, 1 roots, 102 extra nodes, 0 pruned nodes, max_depth=6\n",
      "[33]\ttest-rmse:4.37477\n",
      "[20:25:45] src/tree/updater_prune.cc:74: tree pruning end, 1 roots, 102 extra nodes, 0 pruned nodes, max_depth=6\n",
      "[34]\ttest-rmse:4.37225\n",
      "[20:25:46] src/tree/updater_prune.cc:74: tree pruning end, 1 roots, 88 extra nodes, 0 pruned nodes, max_depth=6\n",
      "[35]\ttest-rmse:4.37268\n",
      "[20:25:46] src/tree/updater_prune.cc:74: tree pruning end, 1 roots, 108 extra nodes, 0 pruned nodes, max_depth=6\n",
      "[36]\ttest-rmse:4.38138\n",
      "[20:25:46] src/tree/updater_prune.cc:74: tree pruning end, 1 roots, 40 extra nodes, 0 pruned nodes, max_depth=6\n",
      "[37]\ttest-rmse:4.38162\n",
      "[20:25:47] src/tree/updater_prune.cc:74: tree pruning end, 1 roots, 86 extra nodes, 0 pruned nodes, max_depth=6\n",
      "[38]\ttest-rmse:4.38297\n",
      "[20:25:47] src/tree/updater_prune.cc:74: tree pruning end, 1 roots, 62 extra nodes, 0 pruned nodes, max_depth=6\n",
      "[39]\ttest-rmse:4.38055\n",
      "Stopping. Best iteration:\n",
      "[14]\ttest-rmse:4.33025\n",
      "\n"
     ]
    },
    {
     "data": {
      "text/plain": [
       "<xgboost.core.Booster at 0x1105f4f28>"
      ]
     },
     "execution_count": 82,
     "metadata": {},
     "output_type": "execute_result"
    }
   ],
   "source": [
    "import xgboost as xgb\n",
    "\n",
    "# XGBoost\n",
    "def xg_boost(train, target):\n",
    "    train, train_test, target, target_test = train_test_split(train, target)\n",
    "    matrix_train = xgb.DMatrix(train, label=target)\n",
    "    matrix_test = xgb.DMatrix(train_test, label=target_test)\n",
    "    xgboost_model = xgb.train(params={'objective': 'reg:linear', 'eval_metric': 'rmse'},\n",
    "                      dtrain=matrix_train, num_boost_round=100,\n",
    "                      early_stopping_rounds=25, evals=[(matrix_test, 'test')])\n",
    "    \n",
    "    return xgboost_model\n",
    "    \n",
    "xg_boost(df_training_set, df_target_set)\n"
   ]
  },
  {
   "cell_type": "markdown",
   "metadata": {},
   "source": [
    "Then chose XGBoost model to get the RMSE which comes to be around 4.33 for 100 iterations. It is an improvement on the Random Forest as well as Linear Regression models."
   ]
  },
  {
   "cell_type": "markdown",
   "metadata": {},
   "source": [
    "External Datasets:\n",
    "* Used holiday dataset of pandas as explained above.\n",
    "* Weather dataset can make a decent contribution as the prices will definitely depend on the weather as the traffic and other reasons for waiting may be more on few days."
   ]
  },
  {
   "cell_type": "markdown",
   "metadata": {},
   "source": [
    "Improvements:\n",
    "* As discussed in the above plots we can take a feature weekend_night which includes times between 2000 and 0400 on friday and saturday.\n",
    "* Location specific data will be helpful as it would help divide the regions so that we can more precisely predict the prices. This is because different regions experience different congestion and prices may adjust accordingly. Other impacts can be the distance of the trips since malls and other places may be far from some regions.\n",
    "* Long distance travel, which is common when visiting famous places in New York and other from Air Ports. The price for such high distance travel may be less than the ususl short-distance travels. This can be seen in the distance scatter plot where fares of long distance travels are comparatively lower or discounted and seem fixed\n",
    "* Weather dataset can be helpful since the congestion and other criteria for pricing may depend on that.\n",
    "* Using better distance function like haversine distance function.\n",
    "\n",
    "Based on the above the following features may be added:\n",
    "* weekend_night: True if it's friday or saturday and time is 2000 - 0000 or if saturday or sunday between 0000 - 0400\n",
    "* cluster the locations.\n",
    "* distance from different airports\n",
    "\n",
    "Note: Inspiration of clustering and airports has been taken from the following kernels.\n",
    "https://www.kaggle.com/justjun0321/exploratory-geoclustering-to-modeling\n",
    "https://www.kaggle.com/dimitreoliveira/taxi-fare-prediction-with-keras-deep-learning\n",
    "\n",
    "Improving Model: \n",
    "* Normalization can be used to improve the Linear regression model.\n",
    "* Scaling Features using standard scaler"
   ]
  },
  {
   "cell_type": "code",
   "execution_count": null,
   "metadata": {},
   "outputs": [],
   "source": [
    "def haversine_distance(p_lat, p_lon, d_lat, d_lon):\n",
    "    p_lon, p_lat, d_lon, d_lat = map(np.radians, [p_lon, p_lat, d_lon, d_lat])\n",
    "    a = np.sin((d_lat - p_lat) / 2.0) ** 2 + np.cos(p_lat) * np.cos(d_lat) * np.sin((d_lon - p_lon) / 2.0) ** 2\n",
    "    return 6367 * 2 * np.arcsin(np.sqrt(a)) * 0.62137\n",
    "\n",
    "\n",
    "def is_weekend_night(row):\n",
    "    if ((row['weekday'] == 4 or row['weekday'] == 5) and (row['hour'] >= 20)) or \\\n",
    "            ((row['weekday'] == 5 or row['weekday'] == 6) and (row['hour'] <= 4)):\n",
    "        return 1\n",
    "    else:\n",
    "        return 0\n",
    "\n",
    "\n",
    "# Adding additional features discussed above\n",
    "def add_additional_features(df):\n",
    "    df['distance'] = haversine_distance(df.pickup_latitude, df.pickup_longitude,\n",
    "                                        df.dropoff_latitude, df.dropoff_longitude)\n",
    "    ny = (-74.0063889, 40.7141667)\n",
    "    jfk = (-73.7822222222, 40.6441666667)\n",
    "    ewr = (-74.175, 40.69)\n",
    "    lgr = (-73.87, 40.77)\n",
    "\n",
    "    df['downtown_pickup_distance'] = haversine_distance(ny[1], ny[0], df.pickup_latitude, df.pickup_longitude)\n",
    "    df['downtown_dropoff_distance'] = haversine_distance(ny[1], ny[0], df.dropoff_latitude, df.dropoff_longitude)\n",
    "    df['jfk_pickup_distance'] = haversine_distance(jfk[1], jfk[0], df.pickup_latitude, df.pickup_longitude)\n",
    "    df['jfk_dropoff_distance'] = haversine_distance(jfk[1], jfk[0], df.dropoff_latitude, df.dropoff_longitude)\n",
    "    df['ewr_pickup_distance'] = haversine_distance(ewr[1], ewr[0], df.pickup_latitude, df.pickup_longitude)\n",
    "    df['ewr_dropoff_distance'] = haversine_distance(ewr[1], ewr[0], df.dropoff_latitude, df.dropoff_longitude)\n",
    "    df['lgr_pickup_distance'] = haversine_distance(lgr[1], lgr[0], df.pickup_latitude, df.pickup_longitude)\n",
    "    df['lgr_dropoff_distance'] = haversine_distance(lgr[1], lgr[0], df.dropoff_latitude, df.dropoff_longitude)\n",
    "\n",
    "    # df['weekend_night'] = df.apply(lambda x: is_weekend_night)\n",
    "    return df\n",
    "\n",
    "\n",
    "def cluster_locations(df):\n",
    "    pickup_locations = df[['pickup_longitude', 'pickup_latitude']]\n",
    "    model = KMeans(n_clusters=6)\n",
    "    model.fit(pickup_locations)\n",
    "    pickup_labels = model.predict(pickup_locations)\n",
    "    df['pickup_cluster'] = pickup_labels\n",
    "\n",
    "    dropoff_locations = df[['dropoff_longitude', 'dropoff_latitude']]\n",
    "    model = KMeans(n_clusters=6)\n",
    "    model.fit(dropoff_locations)\n",
    "    dropoff_labels = model.predict(dropoff_locations)\n",
    "    df['dropoff_cluster'] = dropoff_labels\n",
    "\n",
    "    pickup_clusters = pd.get_dummies(df['pickup_cluster'], prefix='pickup_cluster', drop_first=False)\n",
    "    dropoff_clusters = pd.get_dummies(df['dropoff_cluster'], prefix='dropoff_cluster', drop_first=False)\n",
    "\n",
    "    df = pd.concat([df, pickup_clusters], axis=1).drop('pickup_cluster', axis=1)\n",
    "    df = pd.concat([df, dropoff_clusters], axis=1).drop('dropoff_cluster', axis=1)\n",
    "    return df\n",
    "\n",
    "\n",
    "df_train = add_additional_features(df_train)\n",
    "df_test = add_additional_features(df_test)\n",
    "df_train = cluster_locations(df_train)\n",
    "df_test = cluster_locations(df_test)\n",
    "\n",
    "df_train = df_train.dropna()\n",
    "print(df_train.shape)\n",
    "print(df_train.dtypes)"
   ]
  },
  {
   "cell_type": "code",
   "execution_count": null,
   "metadata": {},
   "outputs": [],
   "source": [
    "# Final Training Set\n",
    "def final_feature_set(df):\n",
    "    columns = ['distance', 'year', 'month', 'day', 'hour', 'weekday', 'is_holiday', 'downtown_pickup_distance',\n",
    "               'downtown_dropoff_distance', 'jfk_pickup_distance', 'jfk_dropoff_distance', 'ewr_pickup_distance',\n",
    "               'ewr_dropoff_distance', 'lgr_pickup_distance', 'lgr_dropoff_distance', 'pickup_cluster_0',\n",
    "               'pickup_cluster_1', 'pickup_cluster_2', 'pickup_cluster_3', 'pickup_cluster_4', 'pickup_cluster_5',\n",
    "               'dropoff_cluster_0', 'dropoff_cluster_1', 'dropoff_cluster_2', 'dropoff_cluster_3', 'dropoff_cluster_4',\n",
    "               'dropoff_cluster_5']\n",
    "    df = df[columns]\n",
    "    return df\n",
    "\n",
    "\n",
    "df_target_set = df_train[['fare_amount']]\n",
    "df_train_set = final_feature_set(df_train)\n",
    "df_test_set = final_feature_set(df_test)"
   ]
  },
  {
   "cell_type": "code",
   "execution_count": null,
   "metadata": {},
   "outputs": [],
   "source": [
    "from sklearn.preprocessing import StandardScaler\n",
    "\n",
    "# Scaling the training data using standard scaler\n",
    "scaler = StandardScaler()\n",
    "scaler.fit(df_train_set)\n",
    "df_train_set = scaler.transform(df_train_set)\n",
    "df_test_set = scaler.transform(df_test_set)"
   ]
  },
  {
   "cell_type": "code",
   "execution_count": null,
   "metadata": {},
   "outputs": [],
   "source": [
    "# Final Prediction\n",
    "lr = linear_regression(df_train_set, df_target_set, normalize=True)\n",
    "# rf = random_forest_regressor(df_train_set, df_target_set)\n",
    "# xm = xg_boost(df_train_set, df_target_set)\n",
    "\n",
    "df_target_prediction_lr = lr.predict(df_test_set)\n",
    "# df_target_prediction_rf = rf.predict(df_test_set)\n",
    "# df_target_prediction_xg = xm.predict(xgb.DMatrix(df_test_set), ntree_limit=model.best_ntree_limit)\n",
    "\n",
    "file_csv = pd.read_csv('sample_submission.csv')\n",
    "file_csv['key'] = df_test['key']\n",
    "file_csv['fare_amount'] = df_target_prediction_lr\n",
    "file_csv.to_csv(\"submission_lr.csv\", index=False)"
   ]
  }
 ],
 "metadata": {
  "kernelspec": {
   "display_name": "Python 3",
   "language": "python",
   "name": "python3"
  },
  "language_info": {
   "codemirror_mode": {
    "name": "ipython",
    "version": 3
   },
   "file_extension": ".py",
   "mimetype": "text/x-python",
   "name": "python",
   "nbconvert_exporter": "python",
   "pygments_lexer": "ipython3",
   "version": "3.6.5"
  }
 },
 "nbformat": 4,
 "nbformat_minor": 2
}
